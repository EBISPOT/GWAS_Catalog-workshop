{
 "cells": [
  {
   "cell_type": "markdown",
   "metadata": {},
   "source": [
    "# Summary Statistics REST API workshop\n",
    "\n",
    "The following example shows how to access and parse data from the GWAS Summary Statistics database using the REST API. This demonstrates examples, but is not exhaustive. Please refer to the [documentation](https://www.ebi.ac.uk/gwas/summary-statistics/docs/) for more details.\n",
    "\n",
    "Version: `0.1`\n",
    "\n",
    "Date: `2019 June 04`\n",
    "\n",
    "REST is language-agnostic. Here we use Python, just for the purpose of demonstration."
   ]
  },
  {
   "cell_type": "code",
   "execution_count": null,
   "metadata": {},
   "outputs": [],
   "source": [
    "# Importing required packages\n",
    "\n",
    "import requests     # Manages data transfer from the GWAS Catalog REST API\n",
    "import pandas as pd # Makes data handling easier\n",
    "import json         # Hanling the returned data type called JSON"
   ]
  },
  {
   "cell_type": "markdown",
   "metadata": {},
   "source": [
    "## Endpoints\n",
    "\n",
    "Run the following to see the endpoints (associations, traits, studies, chromosomes):"
   ]
  },
  {
   "cell_type": "code",
   "execution_count": null,
   "metadata": {},
   "outputs": [],
   "source": [
    "# API root address:\n",
    "api_url='https://www.ebi.ac.uk/gwas/summary-statistics/api'\n",
    "\n",
    "response = requests.get(api_url)\n",
    "\n",
    "# The returned response is a \"response\" object, from which we have to extract and parse the information:\n",
    "decoded = response.json()\n",
    "\n",
    "print(json.dumps(decoded, indent = 2))\n"
   ]
  },
  {
   "cell_type": "markdown",
   "metadata": {},
   "source": [
    "## Get associations for a given variant"
   ]
  },
  {
   "cell_type": "code",
   "execution_count": null,
   "metadata": {},
   "outputs": [],
   "source": [
    "# Accessing data for a single variant. Must be an rsID:\n",
    "variant = 'rs62402518'\n",
    "request_url = '{api}/associations/{variant}'.format(api=api_url, variant=variant)\n",
    "response = requests.get(request_url)\n",
    "decoded = response.json()\n",
    "\n",
    "print(json.dumps(decoded, indent = 2))"
   ]
  },
  {
   "cell_type": "markdown",
   "metadata": {},
   "source": [
    "### Interpreting the response\n",
    "From the returned JSON, you can see it has 20 associations each from different studies. For each association there are the values for p-value, beta, etc. and also links to the associated trait, variant, study and self (study & variant combination). It is also paginated and has `\"_links\"` at the bottom, showing the URLs for this page (`\"self\"`) the first page (`\"first\"`) and the next page (`\"next\"`). By default it shows 20 results per page, but this can be changed using the `size=` parameter, just as you see in the first and next links i.e. `?size=20`. \n",
    "\n",
    "The same 'layout' of the data applies to all the following examples."
   ]
  },
  {
   "cell_type": "markdown",
   "metadata": {},
   "source": [
    "## Get a list of associations for a given trait"
   ]
  },
  {
   "cell_type": "code",
   "execution_count": null,
   "metadata": {},
   "outputs": [],
   "source": [
    "# Accessing data for a specific trait (EFO term):\n",
    "trait = 'EFO_0004466'\n",
    "request_url = '{api}/traits/{trait}/associations'.format(api=api_url, trait=trait)\n",
    "response = requests.get(request_url)\n",
    "decoded = response.json()\n",
    "\n",
    "print(json.dumps(decoded, indent = 2))"
   ]
  },
  {
   "cell_type": "markdown",
   "metadata": {},
   "source": [
    "## Get a list of associations for a given study\n"
   ]
  },
  {
   "cell_type": "code",
   "execution_count": null,
   "metadata": {},
   "outputs": [],
   "source": [
    "# Accessing data for a specific study. Must be a GWAS Catalog study accession ID e.g. GCST000571:\n",
    "study = 'GCST000571'\n",
    "request_url = '{api}/studies/{study}/associations'.format(api=api_url, study=study)\n",
    "response = requests.get(request_url)\n",
    "decoded = response.json()\n",
    "\n",
    "print(json.dumps(decoded, indent = 2))"
   ]
  },
  {
   "cell_type": "markdown",
   "metadata": {},
   "source": [
    "## Get a list of associations within a genomic region\n"
   ]
  },
  {
   "cell_type": "code",
   "execution_count": null,
   "metadata": {},
   "outputs": [],
   "source": [
    "# Accessing data for a specific genomic region (e.g. chr9:132000000-133000000):\n",
    "chromosome = 9\n",
    "bp_lower = 132000000\n",
    "bp_upper = 133000000\n",
    "request_url = '{api}/chromosomes/{chrom}/associations?bp_lower={low}&bp_upper={high}'.format(api=api_url, \n",
    "                                                                                             chrom=chromosome, \n",
    "                                                                                             low=bp_lower,\n",
    "                                                                                             high=bp_upper)\n",
    "response = requests.get(request_url)\n",
    "decoded = response.json()\n",
    "\n",
    "print(json.dumps(decoded, indent = 2))"
   ]
  },
  {
   "cell_type": "markdown",
   "metadata": {},
   "source": [
    "## Get a list of associations below a p-value threshold\n",
    "\n",
    "You may want to filter the associations to only those that are below a p-value threshold e.g. for a given trait such as diabetes type II (EFO_0001360) you want all the associations below p-value 1.0e-5:"
   ]
  },
  {
   "cell_type": "code",
   "execution_count": null,
   "metadata": {},
   "outputs": [],
   "source": [
    "# Accessing data for a specific trait (EFO term) below a p-value threshold:\n",
    "trait = 'EFO_0001360'\n",
    "pval_upper = 1.0e-5 # can be any valid float e.g. 0.00001\n",
    "request_url = '{api}/traits/{trait}/associations?p_upper={high}'.format(api=api_url, \n",
    "                                                                        trait=trait,\n",
    "                                                                        high=pval_upper)\n",
    "response = requests.get(request_url)\n",
    "decoded = response.json()\n",
    "\n",
    "print(json.dumps(decoded, indent = 2))"
   ]
  },
  {
   "cell_type": "markdown",
   "metadata": {},
   "source": [
    "Let's write the above so that it returns the response in a pandas dataframe"
   ]
  },
  {
   "cell_type": "code",
   "execution_count": null,
   "metadata": {},
   "outputs": [],
   "source": [
    "# return a pandas dataframe of results for the above example:\n",
    "\n",
    "extracted_data = []\n",
    "size = 10\n",
    "\n",
    "trait = 'EFO_0001360'\n",
    "pval_upper = 1.0e-5 # can be any valid float e.g. 0.00001\n",
    "request_url = '{api}/traits/{trait}/associations?p_upper={high}&size={size}'.format(api=api_url, \n",
    "                                                                                    trait=trait,\n",
    "                                                                                    high=pval_upper,\n",
    "                                                                                    size=size)\n",
    "response = requests.get(request_url)\n",
    "decoded = response.json()\n",
    "\n",
    "for i in range(0, size):\n",
    "    association = decoded['_embedded']['associations'][str(i)]\n",
    "\n",
    "    pval = association['p_value']\n",
    "    bp = association['base_pair_location']\n",
    "    chrom = association['chromosome']\n",
    "    ea = association['effect_allele']\n",
    "    oa = association['other_allele']\n",
    "    beta = association['beta']\n",
    "    odds = association['odds_ratio']\n",
    "    \n",
    "    extracted_data.append({'trait': trait,\n",
    "                           'pvalue': pval,\n",
    "                           'position': bp,\n",
    "                           'chromosome': chrom,\n",
    "                           'effect_allele': ea,\n",
    "                           'other_allele': oa,\n",
    "                           'beta': beta,\n",
    "                           'odds_ratio': odds\n",
    "                          })\n",
    "\n",
    "\n",
    "table = pd.DataFrame.from_dict(extracted_data)\n",
    "table"
   ]
  }
 ],
 "metadata": {
  "kernelspec": {
   "display_name": "Python 3",
   "language": "python",
   "name": "python3"
  },
  "language_info": {
   "codemirror_mode": {
    "name": "ipython",
    "version": 3
   },
   "file_extension": ".py",
   "mimetype": "text/x-python",
   "name": "python",
   "nbconvert_exporter": "python",
   "pygments_lexer": "ipython3",
   "version": "3.6.5"
  }
 },
 "nbformat": 4,
 "nbformat_minor": 2
}
