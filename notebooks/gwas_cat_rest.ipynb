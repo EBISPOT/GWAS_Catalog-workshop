{
 "cells": [
  {
   "cell_type": "markdown",
   "metadata": {},
   "source": [
    "# GWAS Catalog REST API workshop\n",
    "\n",
    "* The following example shows a basic example how to access and parse data from the GWAS Catalog through the REST API. \n",
    "* Although this example is written in Python, any other programming language is equally good.\n",
    "* Examples in other languages will be available soon.\n",
    "\n",
    "\n",
    "### Contents:\n",
    "\n",
    "* **Exercise 1**: fetching data from the API manually, via a browser\n",
    "* **Exercise 2**: fetching data programatically for a single variant\n",
    "* **Exercise 3**: fetching data for a list of variants\n",
    "* **Exercise 4**: fetching and merging data from multiple endpoints"
   ]
  },
  {
   "cell_type": "markdown",
   "metadata": {},
   "source": [
    "## Exercise 1\n",
    "\n",
    "Fetching data of a single study with accession ID [GCST001795](https://www.ebi.ac.uk/gwas/studies/GCST001795) from the GWAS Catalog REST API using a browser.\n",
    "\n",
    "**Generating the URL:**\n",
    "\n",
    "* API URL: `https://www.ebi.ac.uk/gwas/rest/api`\n",
    "* Endpoint: `studies`\n",
    "* AccessionID: `GCST001795`\n",
    "\n",
    "**URL:**\n",
    "\n",
    "[https://www.ebi.ac.uk/gwas/rest/api/studies/GCST001795](https://www.ebi.ac.uk/gwas/rest/api/studies/GCST001795)"
   ]
  },
  {
   "cell_type": "markdown",
   "metadata": {},
   "source": [
    "### Understanding the returned data:\n",
    "\n",
    "* Number of simple key-value pairs eg:\n",
    "\n",
    "```json\n",
    "    \"initialSampleSize\" : \"1,656 Han Chinese ancestry cases, 3,394 Han Chinese ancestry controls\",\n",
    "    \"snpCount\" : 2100739,\n",
    "    \"imputed\" : true,\n",
    "    \"accessionId\" : \"GCST001795\",\n",
    "```\n",
    "\n",
    "* List allowing multiple elements for a key:\n",
    "\n",
    "```json\n",
    "    \"genotypingTechnologies\" : [ {\n",
    "        \"genotypingTechnology\" : \"Genome-wide genotyping array\"\n",
    "    } ],\n",
    "```\n",
    "* List where the values are themselves complex objects eg. ancestries.\n",
    "\n",
    "\n",
    "* The returned data is highly structured, easy to read for computer. \n",
    "* The same information is accessible via the UI.\n",
    "\n",
    "In the following examples we make small scripts in Python to organize this data to make is easy to read for humans."
   ]
  },
  {
   "cell_type": "markdown",
   "metadata": {},
   "source": [
    "## Exercise 2\n",
    "\n",
    "Fetch the trait and p-value of all associations for a single rsID ([rs7329174](https://www.ebi.ac.uk/gwas/variants/rs7329174))"
   ]
  },
  {
   "cell_type": "code",
   "execution_count": null,
   "metadata": {
    "ExecuteTime": {
     "end_time": "2019-06-16T07:26:46.706202Z",
     "start_time": "2019-06-16T07:26:45.818867Z"
    }
   },
   "outputs": [],
   "source": [
    "# Importing required packages\n",
    "import requests     # Manages data transfer from the GWAS Catalog REST API\n",
    "import pandas as pd # Makes data handling easier\n",
    "import json         # Hanling the returned data type called JSON\n",
    "from collections import OrderedDict\n",
    "\n",
    "print(\"[Info] Required libraries are loaded.\")"
   ]
  },
  {
   "cell_type": "markdown",
   "metadata": {},
   "source": [
    "### Return association data:"
   ]
  },
  {
   "cell_type": "code",
   "execution_count": null,
   "metadata": {
    "ExecuteTime": {
     "end_time": "2019-06-16T07:27:57.616887Z",
     "start_time": "2019-06-16T07:27:56.894982Z"
    },
    "scrolled": true
   },
   "outputs": [],
   "source": [
    "# API Address:\n",
    "apiUrl = 'https://www.ebi.ac.uk/gwas/rest/api'\n",
    "\n",
    "# Accessing data for a single variant:\n",
    "variant = 'rs7329174'\n",
    "requestUrl = '%s/singleNucleotidePolymorphisms/%s/associations?projection=associationBySnp' %(apiUrl, variant)\n",
    "response = requests.get(requestUrl, headers={ \"Content-Type\" : \"application/json\"})\n",
    "\n",
    "# The returned response is a \"response\" object, from which we have to extract and parse the information:\n",
    "decoded = response.json()\n",
    "\n",
    "# The returned information is parsed as a python dictionary. Take a look at the values:\n",
    "print(json.dumps(decoded, indent = 2))"
   ]
  },
  {
   "cell_type": "markdown",
   "metadata": {},
   "source": [
    "### Parsing returned data to get traits and p-values\n",
    "\n",
    "To find out how the returned data is structured, visit the API documentation [here](https://www.ebi.ac.uk/gwas/rest/docs/api)."
   ]
  },
  {
   "cell_type": "code",
   "execution_count": null,
   "metadata": {
    "ExecuteTime": {
     "end_time": "2019-06-16T07:28:29.353414Z",
     "start_time": "2019-06-16T07:28:29.345736Z"
    }
   },
   "outputs": [],
   "source": [
    "for association in decoded['_embedded']['associations']:\n",
    "    trait = \",\".join([trait['trait'] for trait in association['efoTraits']])\n",
    "    pvalue = association['pvalue']\n",
    "    \n",
    "    print(\"Trait: %s, p-value: %s\" %(trait, pvalue))\n"
   ]
  },
  {
   "cell_type": "markdown",
   "metadata": {},
   "source": [
    "The same associations (trait and p-values) can be found in the UI: [rs7329174](https://www.ebi.ac.uk/gwas/variants/rs7329174)"
   ]
  },
  {
   "cell_type": "markdown",
   "metadata": {
    "ExecuteTime": {
     "end_time": "2019-03-21T21:53:49.832293Z",
     "start_time": "2019-03-21T21:53:49.826997Z"
    }
   },
   "source": [
    "## Exercise 3\n",
    "\n",
    "1. Fetch the trait and p-value of all associations for multiple rsIDs. \n",
    "2. Organize the data in a table.\n",
    "3. Be careful, might not all rsIDs have associations!"
   ]
  },
  {
   "cell_type": "code",
   "execution_count": null,
   "metadata": {
    "ExecuteTime": {
     "end_time": "2019-06-16T07:28:48.769982Z",
     "start_time": "2019-06-16T07:28:45.594638Z"
    }
   },
   "outputs": [],
   "source": [
    "\n",
    "# List of variants:\n",
    "variants = ['rs142968358', 'rs62402518', 'rs12199222', 'rs7329174', 'rs9879858765']\n",
    "\n",
    "# Store extracted data in this list:\n",
    "extractedData = []\n",
    "\n",
    "# Iterating over all variants:\n",
    "for variant in variants:\n",
    "\n",
    "    # Accessing data for a single variant:\n",
    "    requestUrl = '%s/singleNucleotidePolymorphisms/%s/associations?projection=associationBySnp' %(apiUrl, variant)\n",
    "    response = requests.get(requestUrl, headers={ \"Content-Type\" : \"application/json\"})\n",
    "    \n",
    "    # Testing if rsID exists:\n",
    "    if not response.ok:\n",
    "        print(\"[Warning] %s is not in the GWAS Catalog!!\" % variant)\n",
    "        continue\n",
    "    \n",
    "    # Test if the returned data looks good:\n",
    "    try:\n",
    "        decoded = response.json()\n",
    "    except:\n",
    "        print(\"[Warning] Failed to encode data for %s\" % variant)\n",
    "        continue\n",
    "    \n",
    "    for association in decoded['_embedded']['associations']:\n",
    "        trait = \",\".join([trait['trait'] for trait in association['efoTraits']])\n",
    "        pvalue = association['pvalue']\n",
    "        \n",
    "        extractedData.append(OrderedDict({'variant' : variant,\n",
    "                              'trait' : trait,\n",
    "                              'pvalue' : pvalue}))\n",
    "\n",
    "# Format data into a table:\n",
    "table = pd.DataFrame.from_dict(extractedData)\n",
    "table"
   ]
  },
  {
   "cell_type": "markdown",
   "metadata": {
    "ExecuteTime": {
     "end_time": "2019-03-21T22:11:20.354795Z",
     "start_time": "2019-03-21T22:11:20.281169Z"
    }
   },
   "source": [
    "## Exercise 4\n",
    "\n",
    "* Extend the previous table with pubmed ID and study accession of the associations. \n",
    "* These pieces of information is not found in the association data, they have to be fetched from other endpoints.\n",
    "\n",
    "Use the links to related resources provided by each association data:\n",
    "\n",
    "```json\n",
    "\n",
    "\"_links\": {\n",
    "    \"self\": {\n",
    "        \"href\": \"https://www.ebi.ac.uk/gwas/rest/api/associations/26384\"\n",
    "    },\n",
    "    \"association\": {\n",
    "        \"href\": \"https://www.ebi.ac.uk/gwas/rest/api/associations/26384{?projection}\",\n",
    "        \"templated\": true\n",
    "    },\n",
    "    \"snps\": {\n",
    "        \"href\": \"https://www.ebi.ac.uk/gwas/rest/api/associations/26384/snps\"\n",
    "    },\n",
    "    \"efoTraits\": {\n",
    "        \"href\": \"https://www.ebi.ac.uk/gwas/rest/api/associations/26384/efoTraits\"\n",
    "    },\n",
    "    \"study\": {\n",
    "        \"href\": \"https://www.ebi.ac.uk/gwas/rest/api/associations/26384/study\"\n",
    "    }\n",
    "}\n",
    "```"
   ]
  },
  {
   "cell_type": "markdown",
   "metadata": {},
   "source": [
    "The small function below visits the link to the study and returns the accession ID and the pubmed ID of the study."
   ]
  },
  {
   "cell_type": "code",
   "execution_count": null,
   "metadata": {
    "ExecuteTime": {
     "end_time": "2019-06-16T07:29:03.569038Z",
     "start_time": "2019-06-16T07:29:03.556961Z"
    }
   },
   "outputs": [],
   "source": [
    "def getStudy(studyLink):\n",
    "    # Accessing data for a single study:\n",
    "    response = requests.get(studyLink, headers={ \"Content-Type\" : \"application/json\"})\n",
    "    decoded = response.json()\n",
    "    \n",
    "    accessionID = decoded['accessionId']\n",
    "    pubmedId = decoded['publicationInfo']['pubmedId']\n",
    "    \n",
    "    return((accessionID, pubmedId))"
   ]
  },
  {
   "cell_type": "code",
   "execution_count": null,
   "metadata": {
    "ExecuteTime": {
     "end_time": "2019-06-16T07:29:08.872082Z",
     "start_time": "2019-06-16T07:29:04.853111Z"
    }
   },
   "outputs": [],
   "source": [
    "extractedData = []\n",
    "for variant in variants:\n",
    "\n",
    "    # Accessing data for a single variant:\n",
    "    requestUrl = '%s/singleNucleotidePolymorphisms/%s/associations?projection=associationBySnp' %(apiUrl, variant)\n",
    "    response = requests.get(requestUrl, headers={ \"Content-Type\" : \"application/json\"})\n",
    "    \n",
    "    # Testing if rsID exists:\n",
    "    if not response.ok:\n",
    "        print(\"[Warning] %s is not in the GWAS Catalog!!\" % variant)\n",
    "        continue\n",
    "    \n",
    "    # Test if the returned data looks good:\n",
    "    try:\n",
    "        decoded = response.json()\n",
    "    except:\n",
    "        print(\"[Warning] Failed to encode data for %s\" % variant)\n",
    "        continue\n",
    "    \n",
    "    for association in decoded['_embedded']['associations']:\n",
    "        # extract study data:\n",
    "        (accessionID, pubmedId) = getStudy(association['_links']['study']['href'])\n",
    "        \n",
    "        # \n",
    "        trait = \",\".join([trait['trait'] for trait in association['efoTraits']])\n",
    "        pvalue = association['pvalue']\n",
    "        \n",
    "        extractedData.append(OrderedDict({'variant' : variant,\n",
    "                              'trait' : trait,\n",
    "                              'pvalue' : pvalue,\n",
    "                              'accessionID' : accessionID,\n",
    "                              'pubmedID' : pubmedId\n",
    "                             }))\n",
    "        \n",
    "table = pd.DataFrame.from_dict(extractedData)\n",
    "table\n",
    "\n",
    "# The table can also be exported as an excel file:\n",
    "# table.to_excel('workshop.xlsx')\n"
   ]
  },
  {
   "cell_type": "code",
   "execution_count": null,
   "metadata": {},
   "outputs": [],
   "source": []
  }
 ],
 "metadata": {
  "kernelspec": {
   "display_name": "Python 3",
   "language": "python",
   "name": "python3"
  },
  "language_info": {
   "codemirror_mode": {
    "name": "ipython",
    "version": 3
   },
   "file_extension": ".py",
   "mimetype": "text/x-python",
   "name": "python",
   "nbconvert_exporter": "python",
   "pygments_lexer": "ipython3",
   "version": "3.6.5"
  }
 },
 "nbformat": 4,
 "nbformat_minor": 2
}
