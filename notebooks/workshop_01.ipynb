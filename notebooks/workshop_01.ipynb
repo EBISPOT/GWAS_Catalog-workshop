{
 "cells": [
  {
   "cell_type": "markdown",
   "metadata": {},
   "source": [
    "# GWAS Catalog REST API workshop\n",
    "\n",
    "* The following example shows a basic example how to access and parse data from the GWAS Catalog through the REST API. \n",
    "* Although this example is written in Python, any other programming language is equally good.\n",
    "* Examples in other languages will be available soon.\n",
    "\n",
    "\n",
    "### Contents:\n",
    "\n",
    "* **Exercise 1**: fetching data from the API via browser\n",
    "* **Exercise 2**: fetching data programatically for a single variant\n",
    "* **Exercise 3**: fetching data for a list of variants\n",
    "* **Exercise 4**: fetching and merging data from multiple endpoints"
   ]
  },
  {
   "cell_type": "markdown",
   "metadata": {},
   "source": [
    "## Exercise 1\n",
    "\n",
    "Opening the GWAS Catalog REST API in the browser to fetch a single study with accession ID: [GCST001795](https://www.ebi.ac.uk/gwas/studies/GCST001795)\n",
    "\n",
    "**How the URL is generated:**\n",
    "\n",
    "* API URL: `https://www.ebi.ac.uk/gwas/rest/api`\n",
    "* Endpoint: `studies`\n",
    "* AccessionID: `GCST001795`\n",
    "\n",
    "**URL:**\n",
    "\n",
    "[https://www.ebi.ac.uk/gwas/rest/api/studies/GCST001795](https://www.ebi.ac.uk/gwas/rest/api/studies/GCST001795)"
   ]
  },
  {
   "cell_type": "markdown",
   "metadata": {},
   "source": [
    "## Understanding the returned data:\n",
    "\n",
    "* Number of simple key-value pairs eg:\n",
    "\n",
    "```json\n",
    "    \"initialSampleSize\" : \"1,656 Han Chinese ancestry cases, 3,394 Han Chinese ancestry controls\",\n",
    "    \"snpCount\" : 2100739,\n",
    "    \"imputed\" : true,\n",
    "    \"accessionId\" : \"GCST001795\",\n",
    "```\n",
    "\n",
    "* List allowing multiple elements for a key:\n",
    "\n",
    "```json\n",
    "    \"genotypingTechnologies\" : [ {\n",
    "        \"genotypingTechnology\" : \"Genome-wide genotyping array\"\n",
    "    } ],\n",
    "```\n",
    "* List where the values are themselves complex objects eg. ancestries.\n",
    "\n",
    "\n",
    "The returned data is highly structured, hard to read for humans but easy to read for computer. In the following examples we make small scripts in Python to organize this data to make is easy to read for humans."
   ]
  },
  {
   "cell_type": "markdown",
   "metadata": {},
   "source": [
    "## Exercise 2\n",
    "\n",
    "Return all associations for a single rsID ([rs7329174](https://www.ebi.ac.uk/gwas/variants/rs7329174))"
   ]
  },
  {
   "cell_type": "code",
   "execution_count": null,
   "metadata": {
    "ExecuteTime": {
     "end_time": "2019-06-04T13:26:47.857484Z",
     "start_time": "2019-06-04T13:26:47.149162Z"
    }
   },
   "outputs": [],
   "source": [
    "# Importing required packages\n",
    "import requests     # Manages data transfer from the GWAS Catalog REST API\n",
    "import pandas as pd # Makes data handling easier\n",
    "import json         # Hanling the returned data type called JSON"
   ]
  },
  {
   "cell_type": "markdown",
   "metadata": {},
   "source": [
    "### Return association data:"
   ]
  },
  {
   "cell_type": "code",
   "execution_count": null,
   "metadata": {
    "ExecuteTime": {
     "end_time": "2019-06-04T13:26:48.378754Z",
     "start_time": "2019-06-04T13:26:47.859317Z"
    },
    "scrolled": true
   },
   "outputs": [],
   "source": [
    "# API Address:\n",
    "apiUrl = 'https://www.ebi.ac.uk/gwas/rest/api'\n",
    "\n",
    "# Accessing data for a single variant:\n",
    "variant = 'rs7329174'\n",
    "requestUrl = '%s/singleNucleotidePolymorphisms/%s/associations?projection=associationBySnp' %(apiUrl, variant)\n",
    "response = requests.get(requestUrl, headers={ \"Content-Type\" : \"application/json\"})\n",
    "\n",
    "# The returned response is a \"response\" object, from which we have to extract and parse the information:\n",
    "decoded = response.json()\n",
    "\n",
    "# The returned information is parsed as a python dictionary. Take a look at the values:\n",
    "print(json.dumps(decoded, indent = 2))"
   ]
  },
  {
   "cell_type": "markdown",
   "metadata": {},
   "source": [
    "### Parsing returned data to get traits and p-values"
   ]
  },
  {
   "cell_type": "code",
   "execution_count": null,
   "metadata": {
    "ExecuteTime": {
     "end_time": "2019-06-04T13:36:36.061508Z",
     "start_time": "2019-06-04T13:36:36.057116Z"
    }
   },
   "outputs": [],
   "source": [
    "for association in decoded['_embedded']['associations']:\n",
    "    trait = \",\".join([trait['trait'] for trait in association['efoTraits']])\n",
    "    pvalue = association['pvalue']\n",
    "    \n",
    "    print(\"Trait: %s, p-value: %s\" %(trait, pvalue))\n"
   ]
  },
  {
   "cell_type": "markdown",
   "metadata": {
    "ExecuteTime": {
     "end_time": "2019-03-21T21:53:49.832293Z",
     "start_time": "2019-03-21T21:53:49.826997Z"
    }
   },
   "source": [
    "## Exercise 3\n",
    "\n",
    "Look up association data for a list of variants"
   ]
  },
  {
   "cell_type": "code",
   "execution_count": null,
   "metadata": {
    "ExecuteTime": {
     "end_time": "2019-06-04T13:31:34.971297Z",
     "start_time": "2019-06-04T13:31:33.098842Z"
    }
   },
   "outputs": [],
   "source": [
    "\n",
    "# List of variants:\n",
    "variants = ['rs142968358', 'rs62402518', 'rs12199222', 'rs7329174', 'rs9879858765']\n",
    "\n",
    "# Store extracted data in this list:\n",
    "extractedData = []\n",
    "\n",
    "# Iterating over all variants:\n",
    "for variant in variants:\n",
    "\n",
    "    # Accessing data for a single variant:\n",
    "    requestUrl = '%s/singleNucleotidePolymorphisms/%s/associations?projection=associationBySnp' %(apiUrl, variant)\n",
    "    response = requests.get(requestUrl, headers={ \"Content-Type\" : \"application/json\"})\n",
    "    \n",
    "    # Testing if rsID exists:\n",
    "    if not response.ok:\n",
    "        print(\"[Warning] %s is not in the GWAS Catalog!!\" % variant)\n",
    "        continue\n",
    "    \n",
    "    # Test if the returned data looks good:\n",
    "    try:\n",
    "        decoded = response.json()\n",
    "    except:\n",
    "        print(\"[Warning] Failed to encode data for %s\" % variant)\n",
    "        continue\n",
    "    \n",
    "    for association in decoded['_embedded']['associations']:\n",
    "        trait = \",\".join([trait['trait'] for trait in association['efoTraits']])\n",
    "        pvalue = association['pvalue']\n",
    "        \n",
    "        extractedData.append({'variant' : variant,\n",
    "                              'trait' : trait,\n",
    "                              'pvalue' : pvalue})\n",
    "\n",
    "# Format data into a table:\n",
    "table = pd.DataFrame.from_dict(extractedData)\n",
    "table"
   ]
  },
  {
   "cell_type": "markdown",
   "metadata": {
    "ExecuteTime": {
     "end_time": "2019-03-21T22:11:20.354795Z",
     "start_time": "2019-03-21T22:11:20.281169Z"
    }
   },
   "source": [
    "## Exercise 4\n",
    "\n",
    "Extend the previous table with pubmed ID and study accession. These pieces of information is not found in the association data, they have to be fetched from other endpoints.\n",
    "\n",
    "Use the links to these endpoints provided by each association data:\n",
    "\n",
    "```json\n",
    "\n",
    "\"_links\": {\n",
    "    \"self\": {\n",
    "        \"href\": \"https://www.ebi.ac.uk/gwas/rest/api/associations/26384\"\n",
    "    },\n",
    "    \"association\": {\n",
    "        \"href\": \"https://www.ebi.ac.uk/gwas/rest/api/associations/26384{?projection}\",\n",
    "        \"templated\": true\n",
    "    },\n",
    "    \"snps\": {\n",
    "        \"href\": \"https://www.ebi.ac.uk/gwas/rest/api/associations/26384/snps\"\n",
    "    },\n",
    "    \"efoTraits\": {\n",
    "        \"href\": \"https://www.ebi.ac.uk/gwas/rest/api/associations/26384/efoTraits\"\n",
    "    },\n",
    "    \"study\": {\n",
    "        \"href\": \"https://www.ebi.ac.uk/gwas/rest/api/associations/26384/study\"\n",
    "    }\n",
    "}\n",
    "```"
   ]
  },
  {
   "cell_type": "code",
   "execution_count": null,
   "metadata": {
    "ExecuteTime": {
     "end_time": "2019-06-04T13:39:00.259037Z",
     "start_time": "2019-06-04T13:39:00.252737Z"
    }
   },
   "outputs": [],
   "source": [
    "# A small function to get accession ID and pubmed ID following the study link:\n",
    "def getStudy(studyLink):\n",
    "    # Accessing data for a single study:\n",
    "    response = requests.get(studyLink, headers={ \"Content-Type\" : \"application/json\"})\n",
    "    decoded = response.json()\n",
    "    \n",
    "    accessionID = decoded['accessionId']\n",
    "    pubmedId = decoded['publicationInfo']['pubmedId']\n",
    "    \n",
    "    return((accessionID, pubmedId))"
   ]
  },
  {
   "cell_type": "code",
   "execution_count": null,
   "metadata": {
    "ExecuteTime": {
     "end_time": "2019-06-04T13:39:02.735223Z",
     "start_time": "2019-06-04T13:39:00.576461Z"
    }
   },
   "outputs": [],
   "source": [
    "extractedData = []\n",
    "for variant in variants:\n",
    "\n",
    "    # Accessing data for a single variant:\n",
    "    requestUrl = '%s/singleNucleotidePolymorphisms/%s/associations?projection=associationBySnp' %(apiUrl, variant)\n",
    "    response = requests.get(requestUrl, headers={ \"Content-Type\" : \"application/json\"})\n",
    "    \n",
    "    # Testing if rsID exists:\n",
    "    if not response.ok:\n",
    "        print(\"[Warning] %s is not in the GWAS Catalog!!\" % variant)\n",
    "        continue\n",
    "    \n",
    "    # Test if the returned data looks good:\n",
    "    try:\n",
    "        decoded = response.json()\n",
    "    except:\n",
    "        print(\"[Warning] Failed to encode data for %s\" % variant)\n",
    "        continue\n",
    "    \n",
    "    for association in decoded['_embedded']['associations']:\n",
    "        # extract study data:\n",
    "        (accessionID, pubmedId) = getStudy(association['_links']['study']['href'])\n",
    "        \n",
    "        # \n",
    "        trait = \",\".join([trait['trait'] for trait in association['efoTraits']])\n",
    "        pvalue = association['pvalue']\n",
    "        \n",
    "        extractedData.append({'variant' : variant,\n",
    "                              'trait' : trait,\n",
    "                              'pvalue' : pvalue,\n",
    "                              'accessionID' : accessionID,\n",
    "                              'pubmedID' : pubmedId\n",
    "                             })\n",
    "        \n",
    "table = pd.DataFrame.from_dict(extractedData)\n",
    "# table.to_excel('workshop.xlsx')\n",
    "print(table)\n",
    "        "
   ]
  },
  {
   "cell_type": "code",
   "execution_count": null,
   "metadata": {},
   "outputs": [],
   "source": []
  }
 ],
 "metadata": {
  "kernelspec": {
   "display_name": "Python 3",
   "language": "python",
   "name": "python3"
  },
  "language_info": {
   "codemirror_mode": {
    "name": "ipython",
    "version": 3
   },
   "file_extension": ".py",
   "mimetype": "text/x-python",
   "name": "python",
   "nbconvert_exporter": "python",
   "pygments_lexer": "ipython3",
   "version": "3.7.0"
  }
 },
 "nbformat": 4,
 "nbformat_minor": 2
}
