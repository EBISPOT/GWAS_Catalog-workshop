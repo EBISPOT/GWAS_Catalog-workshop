{
 "cells": [
  {
   "cell_type": "markdown",
   "metadata": {},
   "source": [
    "# Test 1.\n",
    "\n",
    "The following example shows how to access data from the GWAS Catalog through the REST API."
   ]
  },
  {
   "cell_type": "markdown",
   "metadata": {},
   "source": [
    "## Exercise 1\n",
    "\n",
    "**Get a list of associations for the following variants:**\n",
    "\n",
    "* rs142968358\n",
    "* rs62402518\n",
    "* rs12199222\n",
    "* rs7329174"
   ]
  },
  {
   "cell_type": "code",
   "execution_count": null,
   "metadata": {
    "ExecuteTime": {
     "end_time": "2019-03-21T22:27:51.678893Z",
     "start_time": "2019-03-21T22:27:50.627412Z"
    }
   },
   "outputs": [],
   "source": [
    "import requests\n",
    "import pandas as pd\n",
    "\n",
    "# API Address:\n",
    "apiUrl = 'https://www.ebi.ac.uk/gwas/rest/api'\n",
    "\n",
    "# List of variants:\n",
    "variants = ['rs142968358', 'rs62402518', 'rs12199222', 'rs7329174', 'rs9879858765']\n",
    "\n",
    "# Accessing data for a single variant:\n",
    "variant = 'rs7329174'\n",
    "requestUrl = '%s/singleNucleotidePolymorphisms/%s/associations?projection=associationBySnp' %(apiUrl, variant)\n",
    "response = requests.get(requestUrl, headers={ \"Content-Type\" : \"application/json\"})\n",
    "\n",
    "# The returned response is a \"response\" object, from which we have to extract and parse the information:\n",
    "decoded = response.json()\n",
    "\n",
    "# The returned information is parsed as a python dictionary. Take a look at the values:\n",
    "decoded"
   ]
  },
  {
   "cell_type": "markdown",
   "metadata": {},
   "source": [
    "## For a single variant get traits and p-values"
   ]
  },
  {
   "cell_type": "code",
   "execution_count": null,
   "metadata": {
    "ExecuteTime": {
     "end_time": "2019-03-21T22:28:18.634856Z",
     "start_time": "2019-03-21T22:28:18.630482Z"
    }
   },
   "outputs": [],
   "source": [
    "for association in decoded['_embedded']['associations']:\n",
    "    trait = \",\".join([trait['trait'] for trait in association['efoTraits']])\n",
    "    pvalue = association['pvalue']\n",
    "    \n",
    "    print(\"Trait: %s, p-value: %s\" %(trait, pvalue))\n"
   ]
  },
  {
   "cell_type": "markdown",
   "metadata": {
    "ExecuteTime": {
     "end_time": "2019-03-21T21:53:49.832293Z",
     "start_time": "2019-03-21T21:53:49.826997Z"
    }
   },
   "source": [
    "## Generate table for all variants containing traits and p-values:"
   ]
  },
  {
   "cell_type": "code",
   "execution_count": null,
   "metadata": {
    "ExecuteTime": {
     "end_time": "2019-03-21T22:28:41.200981Z",
     "start_time": "2019-03-21T22:28:37.712938Z"
    }
   },
   "outputs": [],
   "source": [
    "\n",
    "extractedData = []\n",
    "for variant in variants:\n",
    "\n",
    "    # Accessing data for a single variant:\n",
    "    requestUrl = '%s/singleNucleotidePolymorphisms/%s/associations?projection=associationBySnp' %(apiUrl, variant)\n",
    "    response = requests.get(requestUrl, headers={ \"Content-Type\" : \"application/json\"})\n",
    "    \n",
    "    # Testing if rsID exists:\n",
    "    if not response.ok:\n",
    "        print(\"[Warning] %s is not in the GWAS Catalog!!\" % variant)\n",
    "        continue\n",
    "    \n",
    "    # Test if the returned data looks good:\n",
    "    try:\n",
    "        decoded = response.json()\n",
    "    except:\n",
    "        print(\"[Warning] Failed to encode data for %s\" % variant)\n",
    "        continue\n",
    "    \n",
    "    for association in decoded['_embedded']['associations']:\n",
    "        trait = \",\".join([trait['trait'] for trait in association['efoTraits']])\n",
    "        pvalue = association['pvalue']\n",
    "        \n",
    "        extractedData.append({'variant' : variant,\n",
    "                              'trait' : trait,\n",
    "                              'pvalue' : pvalue\n",
    "                             })\n",
    "\n",
    "table = pd.DataFrame.from_dict(extractedData)\n",
    "table"
   ]
  },
  {
   "cell_type": "markdown",
   "metadata": {
    "ExecuteTime": {
     "end_time": "2019-03-21T22:11:20.354795Z",
     "start_time": "2019-03-21T22:11:20.281169Z"
    }
   },
   "source": [
    "## Extend the previous table with pubmed ID and study accession"
   ]
  },
  {
   "cell_type": "code",
   "execution_count": null,
   "metadata": {
    "ExecuteTime": {
     "end_time": "2019-03-21T22:28:53.505578Z",
     "start_time": "2019-03-21T22:28:53.498700Z"
    }
   },
   "outputs": [],
   "source": [
    "def getStudy(studyLink):\n",
    "    # Accessing data for a single study:\n",
    "    response = requests.get(studyLink, headers={ \"Content-Type\" : \"application/json\"})\n",
    "    decoded = response.json()\n",
    "    \n",
    "    accessionID = decoded['accessionId']\n",
    "    pubmedId = decoded['publicationInfo']['pubmedId']\n",
    "    \n",
    "    return((accessionID, pubmedId))"
   ]
  },
  {
   "cell_type": "code",
   "execution_count": null,
   "metadata": {
    "ExecuteTime": {
     "end_time": "2019-03-21T22:29:11.839488Z",
     "start_time": "2019-03-21T22:29:05.014998Z"
    }
   },
   "outputs": [],
   "source": [
    "extractedData = []\n",
    "for variant in variants:\n",
    "\n",
    "    # Accessing data for a single variant:\n",
    "    requestUrl = '%s/singleNucleotidePolymorphisms/%s/associations?projection=associationBySnp' %(apiUrl, variant)\n",
    "    response = requests.get(requestUrl, headers={ \"Content-Type\" : \"application/json\"})\n",
    "    \n",
    "    # Testing if rsID exists:\n",
    "    if not response.ok:\n",
    "        print(\"[Warning] %s is not in the GWAS Catalog!!\" % variant)\n",
    "        continue\n",
    "    \n",
    "    # Test if the returned data looks good:\n",
    "    try:\n",
    "        decoded = response.json()\n",
    "    except:\n",
    "        print(\"[Warning] Failed to encode data for %s\" % variant)\n",
    "        continue\n",
    "    \n",
    "    for association in decoded['_embedded']['associations']:\n",
    "        # extract study data:\n",
    "        (accessionID, pubmedId) = getStudy(association['_links']['study']['href'])\n",
    "        \n",
    "        # \n",
    "        trait = \",\".join([trait['trait'] for trait in association['efoTraits']])\n",
    "        pvalue = association['pvalue']\n",
    "        \n",
    "        extractedData.append({'variant' : variant,\n",
    "                              'trait' : trait,\n",
    "                              'pvalue' : pvalue,\n",
    "                              'accessionID' : accessionID,\n",
    "                              'pubmedID' : pubmedId\n",
    "                             })\n",
    "        \n",
    "table = pd.DataFrame.from_dict(extractedData)\n",
    "# table.to_excel('workshop.xlsx')\n",
    "print(table)\n",
    "        "
   ]
  },
  {
   "cell_type": "code",
   "execution_count": null,
   "metadata": {},
   "outputs": [],
   "source": []
  }
 ],
 "metadata": {
  "kernelspec": {
   "display_name": "Python 3",
   "language": "python",
   "name": "python3"
  },
  "language_info": {
   "codemirror_mode": {
    "name": "ipython",
    "version": 3
   },
   "file_extension": ".py",
   "mimetype": "text/x-python",
   "name": "python",
   "nbconvert_exporter": "python",
   "pygments_lexer": "ipython3",
   "version": "3.7.0"
  }
 },
 "nbformat": 4,
 "nbformat_minor": 2
}
